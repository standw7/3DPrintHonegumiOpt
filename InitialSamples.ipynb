{
 "cells": [
  {
   "cell_type": "markdown",
   "id": "3d897ad3",
   "metadata": {},
   "source": [
    "### Import Libraries"
   ]
  },
  {
   "cell_type": "code",
   "execution_count": 14,
   "id": "b3ad3ee2",
   "metadata": {},
   "outputs": [],
   "source": [
    "import matplotlib.pyplot as plt\n",
    "import numpy as np\n",
    "from smt.sampling_methods import LHS\n",
    "import pandas as pd \n",
    "import random\n",
    "import itertools"
   ]
  },
  {
   "cell_type": "markdown",
   "id": "d20370aa",
   "metadata": {},
   "source": [
    "### Initial Continuous Samples\n",
    "\n",
    "Sample initial points from continuous vairables using quasi-random latin hypercube sampling (LHS)"
   ]
  },
  {
   "cell_type": "code",
   "execution_count": 15,
   "id": "8ac4de43",
   "metadata": {},
   "outputs": [],
   "source": [
    "xlimits = np.array([[0.4, 2.0], [20.0, 100.0], [0.1, 0.4], [10.0, 100.0], [1.0, 100.0], [0.0,110.0], [0.0,100.0], [0.5, 6.0]])\n",
    "sampling = LHS(xlimits=xlimits)\n",
    "\n",
    "n_samples = 20\n",
    "x = sampling(n_samples)\n",
    "\n",
    "# make the points 2 decimal places max\n",
    "x = np.round(x, 2)\n",
    "\n",
    "\n",
    "# add the points to a dataframe \n",
    "df = pd.DataFrame(x, columns=['WallThickness', 'PrintSpeed', 'LayerHeight', 'Infill%', 'NozzleTemp', 'BedTemp', 'FanSpeed', 'RetractionDistance'])"
   ]
  },
  {
   "cell_type": "markdown",
   "id": "ae91a6e3",
   "metadata": {},
   "source": [
    "### Initial Categorical Samples\n",
    "\n",
    "Sample categorical variables randomly from possible pairs (to avoid duplicates)"
   ]
  },
  {
   "cell_type": "code",
   "execution_count": 16,
   "id": "1e7b9ea5",
   "metadata": {},
   "outputs": [],
   "source": [
    "categorical_space = {\n",
    "    \"Material\": [\"PLA\", \"ABS\", \"TPU\", \"PETG\"],\n",
    "    \"InfillPattern\": [\"Quarter Cubic\", \"Gyroid\", \"Cubic\", \"Octet\", \"Tri-Hexagon\",\n",
    "                      \"Concentric\", \"Cross\", \"Grid\", \"Cubic Subdivision\", \"Cross 3D\", \"Triangle\"]\n",
    "}\n",
    "\n",
    "cat_combinations = list(itertools.product(\n",
    "    categorical_space[\"Material\"], categorical_space[\"InfillPattern\"]\n",
    "))\n",
    "\n",
    "# Randomly sample 20 unique combinations from all possible pairs\n",
    "random.seed(42)\n",
    "chosen_cats = random.sample(cat_combinations, n_samples)\n",
    "\n",
    "categorical_df = pd.DataFrame(chosen_cats, columns=[\"Material\", \"InfillPattern\"])\n",
    "\n",
    "# Combine the numerical and categorical dataframes\n",
    "combined_df = pd.concat([df, categorical_df], axis=1)\n",
    "# Save the combined dataframe to a CSV file\n",
    "combined_df.to_csv('intial_points.csv', index=False)"
   ]
  }
 ],
 "metadata": {
  "kernelspec": {
   "display_name": "3dprint2",
   "language": "python",
   "name": "python3"
  },
  "language_info": {
   "codemirror_mode": {
    "name": "ipython",
    "version": 3
   },
   "file_extension": ".py",
   "mimetype": "text/x-python",
   "name": "python",
   "nbconvert_exporter": "python",
   "pygments_lexer": "ipython3",
   "version": "3.11.8"
  }
 },
 "nbformat": 4,
 "nbformat_minor": 5
}
