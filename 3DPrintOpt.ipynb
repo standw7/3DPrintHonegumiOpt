{
 "cells": [
  {
   "cell_type": "markdown",
   "id": "21c30c97",
   "metadata": {},
   "source": [
    "## Import Libraries"
   ]
  },
  {
   "cell_type": "code",
   "execution_count": null,
   "id": "ca20799f",
   "metadata": {},
   "outputs": [],
   "source": [
    "import numpy as np\n",
    "import pandas as pd\n",
    "from ax.service.ax_client import AxClient, ObjectiveProperties\n",
    "import matplotlib.pyplot as plt"
   ]
  },
  {
   "cell_type": "markdown",
   "id": "8b4b5fae",
   "metadata": {},
   "source": [
    "## Define the Objectives"
   ]
  },
  {
   "cell_type": "code",
   "execution_count": 74,
   "id": "4b869a8f",
   "metadata": {},
   "outputs": [],
   "source": [
    "obj1_name = \"UltimateTensileStrength\"\n",
    "obj2_name = \"YieldStrength\"\n",
    "obj3_name = \"ElasticModulus\"\n"
   ]
  },
  {
   "cell_type": "markdown",
   "id": "03004b4f",
   "metadata": {},
   "source": [
    "## Read the training data"
   ]
  },
  {
   "cell_type": "code",
   "execution_count": 75,
   "id": "b8410d3c",
   "metadata": {},
   "outputs": [],
   "source": [
    "# Define the training data\n",
    "# read the training data from a CSV file\n",
    "data = pd.read_csv(\"training_data.csv\")"
   ]
  },
  {
   "cell_type": "markdown",
   "id": "c58bb8b7",
   "metadata": {},
   "source": [
    "## Set up the AX Experiment"
   ]
  },
  {
   "cell_type": "code",
   "execution_count": 80,
   "id": "c1f21e5b",
   "metadata": {},
   "outputs": [
    {
     "name": "stderr",
     "output_type": "stream",
     "text": [
      "[INFO 04-17 12:33:55] ax.service.utils.instantiation: Due to non-specification, we will use the heuristic for selecting objective thresholds.\n",
      "[INFO 04-17 12:33:55] ax.service.utils.instantiation: Inferred value type of ParameterType.FLOAT for parameter WallThickness. If that is not the expected value type, you can explicitly specify 'value_type' ('int', 'float', 'bool' or 'str') in parameter dict.\n",
      "[INFO 04-17 12:33:55] ax.service.utils.instantiation: Inferred value type of ParameterType.FLOAT for parameter PrintSpeed. If that is not the expected value type, you can explicitly specify 'value_type' ('int', 'float', 'bool' or 'str') in parameter dict.\n",
      "[INFO 04-17 12:33:55] ax.service.utils.instantiation: Inferred value type of ParameterType.FLOAT for parameter LayerHeight. If that is not the expected value type, you can explicitly specify 'value_type' ('int', 'float', 'bool' or 'str') in parameter dict.\n",
      "[INFO 04-17 12:33:55] ax.service.utils.instantiation: Inferred value type of ParameterType.FLOAT for parameter Infill%. If that is not the expected value type, you can explicitly specify 'value_type' ('int', 'float', 'bool' or 'str') in parameter dict.\n",
      "[INFO 04-17 12:33:55] ax.service.utils.instantiation: Inferred value type of ParameterType.FLOAT for parameter NozzleTemp. If that is not the expected value type, you can explicitly specify 'value_type' ('int', 'float', 'bool' or 'str') in parameter dict.\n",
      "[INFO 04-17 12:33:55] ax.service.utils.instantiation: Inferred value type of ParameterType.FLOAT for parameter BedTemp. If that is not the expected value type, you can explicitly specify 'value_type' ('int', 'float', 'bool' or 'str') in parameter dict.\n",
      "[INFO 04-17 12:33:55] ax.service.utils.instantiation: Inferred value type of ParameterType.FLOAT for parameter FanSpeed. If that is not the expected value type, you can explicitly specify 'value_type' ('int', 'float', 'bool' or 'str') in parameter dict.\n",
      "[INFO 04-17 12:33:55] ax.service.utils.instantiation: Inferred value type of ParameterType.FLOAT for parameter RetractionDistance. If that is not the expected value type, you can explicitly specify 'value_type' ('int', 'float', 'bool' or 'str') in parameter dict.\n",
      "[INFO 04-17 12:33:55] ax.service.utils.instantiation: Inferred value type of ParameterType.STRING for parameter Material. If that is not the expected value type, you can explicitly specify 'value_type' ('int', 'float', 'bool' or 'str') in parameter dict.\n",
      "/opt/miniconda3/envs/3dprint/lib/python3.13/site-packages/ax/service/utils/instantiation.py:258: AxParameterWarning: `sort_values` is not specified for `ChoiceParameter` \"Material\". Defaulting to `False` for parameters of `ParameterType` STRING. To override this behavior (or avoid this warning), specify `sort_values` during `ChoiceParameter` construction.\n",
      "  return ChoiceParameter(\n",
      "[INFO 04-17 12:33:55] ax.service.utils.instantiation: Inferred value type of ParameterType.STRING for parameter InfillPattern. If that is not the expected value type, you can explicitly specify 'value_type' ('int', 'float', 'bool' or 'str') in parameter dict.\n",
      "/opt/miniconda3/envs/3dprint/lib/python3.13/site-packages/ax/service/utils/instantiation.py:258: AxParameterWarning: `sort_values` is not specified for `ChoiceParameter` \"InfillPattern\". Defaulting to `False` for parameters of `ParameterType` STRING. To override this behavior (or avoid this warning), specify `sort_values` during `ChoiceParameter` construction.\n",
      "  return ChoiceParameter(\n",
      "[INFO 04-17 12:33:55] ax.service.utils.instantiation: Created search space: SearchSpace(parameters=[RangeParameter(name='WallThickness', parameter_type=FLOAT, range=[0.4, 2.0]), RangeParameter(name='PrintSpeed', parameter_type=FLOAT, range=[20.0, 100.0]), RangeParameter(name='LayerHeight', parameter_type=FLOAT, range=[0.1, 0.4]), RangeParameter(name='Infill%', parameter_type=FLOAT, range=[10.0, 100.0]), RangeParameter(name='NozzleTemp', parameter_type=FLOAT, range=[1.0, 100.0]), RangeParameter(name='BedTemp', parameter_type=FLOAT, range=[0.0, 110.0]), RangeParameter(name='FanSpeed', parameter_type=FLOAT, range=[0.0, 100.0]), RangeParameter(name='RetractionDistance', parameter_type=FLOAT, range=[0.5, 6.0]), ChoiceParameter(name='Material', parameter_type=STRING, values=['PLA', 'ABS', 'TPU', 'PETG'], is_ordered=False, sort_values=False), ChoiceParameter(name='InfillPattern', parameter_type=STRING, values=['Quarter Cubic', 'Gyroid', 'Cubic', 'Octet', 'Tri-Hexagon', 'Concentric', 'Cross', 'Grid', 'Cubic Subdivision', 'Cross 3D', 'Triangle'], is_ordered=False, sort_values=False)], parameter_constraints=[]).\n",
      "[INFO 04-17 12:33:55] ax.modelbridge.dispatch_utils: Using Bayesian optimization with a categorical kernel for improved performance with a large number of unordered categorical parameters.\n",
      "[INFO 04-17 12:33:55] ax.modelbridge.dispatch_utils: Calculating the number of remaining initialization trials based on num_initialization_trials=None max_initialization_trials=None num_tunable_parameters=10 num_trials=None use_batch_trials=False\n",
      "[INFO 04-17 12:33:55] ax.modelbridge.dispatch_utils: calculated num_initialization_trials=20\n",
      "[INFO 04-17 12:33:55] ax.modelbridge.dispatch_utils: num_completed_initialization_trials=0 num_remaining_initialization_trials=20\n",
      "[INFO 04-17 12:33:55] ax.modelbridge.dispatch_utils: `verbose`, `disable_progbar`, and `jit_compile` are not yet supported when using `choose_generation_strategy` with ModularBoTorchModel, dropping these arguments.\n",
      "[INFO 04-17 12:33:55] ax.modelbridge.dispatch_utils: Using Bayesian Optimization generation strategy: GenerationStrategy(name='Sobol+BO_MIXED', steps=[Sobol for 20 trials, BO_MIXED for subsequent trials]). Iterations after 20 will take longer to generate due to model-fitting.\n",
      "[INFO 04-17 12:33:55] ax.core.experiment: Attached custom parameterizations [{'Material': 'PLA', 'InfillPattern': 'Quarter Cubic', 'WallThickness': 0.4, 'PrintSpeed': 20.0, 'LayerHeight': 0.1, 'Infill%': 10.0, 'NozzleTemp': 1.0, 'BedTemp': 0.0, 'FanSpeed': 0.0, 'RetractionDistance': 0.5}] as trial 0.\n",
      "[INFO 04-17 12:33:55] ax.core.experiment: Attached custom parameterizations [{'Material': 'ABS', 'InfillPattern': 'Quarter Cubic', 'WallThickness': 0.906584, 'PrintSpeed': 65.891852, 'LayerHeight': 0.239203, 'Infill%': 27.97172, 'NozzleTemp': 38.393648, 'BedTemp': 53.577021, 'FanSpeed': 53.138471, 'RetractionDistance': 2.106706}] as trial 1.\n",
      "[INFO 04-17 12:33:55] ax.core.experiment: Attached custom parameterizations [{'Material': 'TPU', 'InfillPattern': 'Gyroid', 'WallThickness': 1.886495, 'PrintSpeed': 32.398198, 'LayerHeight': 0.376688, 'Infill%': 76.002212, 'NozzleTemp': 69.900661, 'BedTemp': 62.385893, 'FanSpeed': 35.829296, 'RetractionDistance': 4.900646}] as trial 2.\n",
      "[INFO 04-17 12:33:55] ax.core.experiment: Attached custom parameterizations [{'Material': 'TPU', 'InfillPattern': 'Cross', 'WallThickness': 1.435776, 'PrintSpeed': 95.695079, 'LayerHeight': 0.141549, 'Infill%': 42.131124, 'NozzleTemp': 79.305749, 'BedTemp': 86.774559, 'FanSpeed': 81.873966, 'RetractionDistance': 4.498301}] as trial 3.\n",
      "[INFO 04-17 12:33:55] ax.core.experiment: Attached custom parameterizations [{'Material': 'PETG', 'InfillPattern': 'Cubic Subdivision', 'WallThickness': 0.558645, 'PrintSpeed': 42.284435, 'LayerHeight': 0.317559, 'Infill%': 84.452845, 'NozzleTemp': 10.631509, 'BedTemp': 15.661589, 'FanSpeed': 0.844059, 'RetractionDistance': 1.789638}] as trial 4.\n",
      "[INFO 04-17 12:33:55] ax.core.experiment: Attached custom parameterizations [{'Material': 'TPU', 'InfillPattern': 'Cross', 'WallThickness': 0.609387, 'PrintSpeed': 86.590544, 'LayerHeight': 0.348236, 'Infill%': 92.373309, 'NozzleTemp': 20.030038, 'BedTemp': 28.035688, 'FanSpeed': 98.997325, 'RetractionDistance': 3.79003}] as trial 5.\n",
      "[INFO 04-17 12:33:55] ax.core.experiment: Attached custom parameterizations [{'Material': 'ABS', 'InfillPattern': 'Grid', 'WallThickness': 1.383472, 'PrintSpeed': 50.118375, 'LayerHeight': 0.185556, 'Infill%': 44.779508, 'NozzleTemp': 89.048851, 'BedTemp': 74.227575, 'FanSpeed': 18.309251, 'RetractionDistance': 1.17125}] as trial 6.\n",
      "[INFO 04-17 12:33:55] ax.core.experiment: Attached custom parameterizations [{'Material': 'PLA', 'InfillPattern': 'Cross 3D', 'WallThickness': 1.732537, 'PrintSpeed': 76.861625, 'LayerHeight': 0.257535, 'Infill%': 55.777078, 'NozzleTemp': 61.31683, 'BedTemp': 105.054644, 'FanSpeed': 64.45139, 'RetractionDistance': 2.776037}] as trial 7.\n",
      "[INFO 04-17 12:33:55] ax.core.experiment: Attached custom parameterizations [{'Material': 'PETG', 'InfillPattern': 'Octet', 'WallThickness': 1.062104, 'PrintSpeed': 20.159965, 'LayerHeight': 0.133674, 'Infill%': 13.72176, 'NozzleTemp': 29.380836, 'BedTemp': 11.168427, 'FanSpeed': 46.60507, 'RetractionDistance': 5.654655}] as trial 8.\n",
      "[INFO 04-17 12:33:55] ax.core.experiment: Attached custom parameterizations [{'Material': 'PETG', 'InfillPattern': 'Cross', 'WallThickness': 1.197819, 'PrintSpeed': 91.885255, 'LayerHeight': 0.270515, 'Infill%': 52.055432, 'NozzleTemp': 66.217387, 'BedTemp': 24.589409, 'FanSpeed': 88.709104, 'RetractionDistance': 3.344831}] as trial 9.\n",
      "[INFO 04-17 12:33:55] ax.core.experiment: Attached custom parameterizations [{'Material': 'PLA', 'InfillPattern': 'Triangle', 'WallThickness': 1.621822, 'PrintSpeed': 46.091798, 'LayerHeight': 0.113273, 'Infill%': 99.73096, 'NozzleTemp': 48.275754, 'BedTemp': 91.405499, 'FanSpeed': 19.008829, 'RetractionDistance': 0.552823}] as trial 10.\n"
     ]
    }
   ],
   "source": [
    "\n",
    "# set the number of training samples to the number of rows \n",
    "# in the training data\n",
    "\n",
    "n_train = data.shape[0]\n",
    "\n",
    "ax_client = AxClient(verbose_logging=False)\n",
    "\n",
    "ax_client.create_experiment(\n",
    "    parameters=[\n",
    "        {\"name\": \"WallThickness\", \"type\": \"range\", \"bounds\": [0.4, 2.0]},\n",
    "        {\"name\": \"PrintSpeed\", \"type\": \"range\", \"bounds\": [20.0, 100.0]},\n",
    "        {\"name\": \"LayerHeight\", \"type\": \"range\", \"bounds\": [0.1, 0.4]},\n",
    "        {\"name\": \"Infill%\", \"type\": \"range\", \"bounds\": [10.0, 100.0]},\n",
    "        {\"name\": \"NozzleTemp\", \"type\": \"range\", \"bounds\": [1.0, 100.0]},\n",
    "        {\"name\": \"BedTemp\", \"type\": \"range\", \"bounds\": [0.0, 110.0]},\n",
    "        {\"name\": \"FanSpeed\", \"type\": \"range\", \"bounds\": [0.0, 100.0]},\n",
    "        {\"name\": \"RetractionDistance\", \"type\": \"range\", \"bounds\": [0.5, 6.0]},\n",
    "        {\n",
    "            \"name\": \"Material\",\n",
    "            \"type\": \"choice\",\n",
    "            \"is_ordered\": False,\n",
    "            \"values\": [\"PLA\", \"ABS\", \"TPU\", \"PETG\"],\n",
    "        },\n",
    "        {\n",
    "            \"name\": \"InfillPattern\",\n",
    "            \"type\": \"choice\",\n",
    "            \"is_ordered\": False,\n",
    "            \"values\": [\"Quarter Cubic\", \"Gyroid\", \"Cubic\", \"Octet\", \"Tri-Hexagon\", \"Concentric\", \"Cross\", \"Grid\", \"Cubic Subdivision\", \"Cross 3D\", \"Triangle\"],\n",
    "        },\n",
    "    ],\n",
    "    objectives={\n",
    "        obj1_name: ObjectiveProperties(minimize=True),\n",
    "        obj2_name: ObjectiveProperties(minimize=True),\n",
    "        obj3_name: ObjectiveProperties(minimize=True),\n",
    "    },\n",
    ")\n",
    "\n",
    "# Add existing data to the AxClient\n",
    "for i, row in data.iterrows():\n",
    "    parameters = {\"Material\": row['Material'],\n",
    "                  \"InfillPattern\": row['InfillPattern'],\n",
    "                  \"WallThickness\": row['WallThickness'],\n",
    "                  \"PrintSpeed\": row['PrintSpeed'],\n",
    "                  \"LayerHeight\": row['LayerHeight'],\n",
    "                  \"Infill%\": row['Infill%'],\n",
    "                  \"NozzleTemp\": row['NozzleTemp'],\n",
    "                  \"BedTemp\": row['BedTemp'],\n",
    "                  \"FanSpeed\": row['FanSpeed'],\n",
    "                  \"RetractionDistance\": row['RetractionDistance']}\n",
    "    \n",
    "    UTS = row[obj1_name]\n",
    "    YS = row[obj2_name] \n",
    "    EM = row[obj3_name]\n",
    "    ax_client.attach_trial(parameters)\n",
    "    ax_client.complete_trial(trial_index=i, raw_data={obj1_name: UTS, obj2_name: YS, obj3_name: EM})\n",
    "\n"
   ]
  },
  {
   "cell_type": "markdown",
   "id": "c22e0448",
   "metadata": {},
   "source": [
    "## Create a batch of 10 trials to run"
   ]
  },
  {
   "cell_type": "code",
   "execution_count": null,
   "id": "e284e7dd",
   "metadata": {},
   "outputs": [
    {
     "name": "stderr",
     "output_type": "stream",
     "text": [
      "/opt/miniconda3/envs/3dprint/lib/python3.13/site-packages/ax/modelbridge/cross_validation.py:439: UserWarning: Encountered exception in computing model fit quality: RandomModelBridge does not support prediction.\n",
      "  warn(\"Encountered exception in computing model fit quality: \" + str(e))\n",
      "[INFO 04-17 12:30:27] ax.service.ax_client: Generated new trial 1 with parameters {'WallThickness': 0.906584, 'PrintSpeed': 65.891852, 'LayerHeight': 0.239203, 'Infill%': 27.97172, 'NozzleTemp': 38.393648, 'BedTemp': 53.577021, 'FanSpeed': 53.138471, 'RetractionDistance': 2.106706, 'Material': 'ABS', 'InfillPattern': 'Quarter Cubic'} using model Sobol.\n",
      "/opt/miniconda3/envs/3dprint/lib/python3.13/site-packages/ax/core/data.py:295: FutureWarning: The behavior of DataFrame concatenation with empty or all-NA entries is deprecated. In a future version, this will no longer exclude empty or all-NA columns when determining the result dtypes. To retain the old behavior, exclude the relevant entries before the concat operation.\n",
      "  return cls(df=pd.concat(dfs, axis=0, sort=True))\n",
      "/opt/miniconda3/envs/3dprint/lib/python3.13/site-packages/ax/modelbridge/cross_validation.py:439: UserWarning: Encountered exception in computing model fit quality: RandomModelBridge does not support prediction.\n",
      "  warn(\"Encountered exception in computing model fit quality: \" + str(e))\n",
      "[INFO 04-17 12:30:27] ax.service.ax_client: Generated new trial 2 with parameters {'WallThickness': 1.886495, 'PrintSpeed': 32.398198, 'LayerHeight': 0.376688, 'Infill%': 76.002212, 'NozzleTemp': 69.900661, 'BedTemp': 62.385893, 'FanSpeed': 35.829296, 'RetractionDistance': 4.900646, 'Material': 'TPU', 'InfillPattern': 'Gyroid'} using model Sobol.\n",
      "/opt/miniconda3/envs/3dprint/lib/python3.13/site-packages/ax/core/data.py:295: FutureWarning: The behavior of DataFrame concatenation with empty or all-NA entries is deprecated. In a future version, this will no longer exclude empty or all-NA columns when determining the result dtypes. To retain the old behavior, exclude the relevant entries before the concat operation.\n",
      "  return cls(df=pd.concat(dfs, axis=0, sort=True))\n",
      "/opt/miniconda3/envs/3dprint/lib/python3.13/site-packages/ax/modelbridge/cross_validation.py:439: UserWarning: Encountered exception in computing model fit quality: RandomModelBridge does not support prediction.\n",
      "  warn(\"Encountered exception in computing model fit quality: \" + str(e))\n",
      "[INFO 04-17 12:30:27] ax.service.ax_client: Generated new trial 3 with parameters {'WallThickness': 1.435776, 'PrintSpeed': 95.695079, 'LayerHeight': 0.141549, 'Infill%': 42.131124, 'NozzleTemp': 79.305749, 'BedTemp': 86.774559, 'FanSpeed': 81.873966, 'RetractionDistance': 4.498301, 'Material': 'TPU', 'InfillPattern': 'Cross'} using model Sobol.\n",
      "/opt/miniconda3/envs/3dprint/lib/python3.13/site-packages/ax/core/data.py:295: FutureWarning: The behavior of DataFrame concatenation with empty or all-NA entries is deprecated. In a future version, this will no longer exclude empty or all-NA columns when determining the result dtypes. To retain the old behavior, exclude the relevant entries before the concat operation.\n",
      "  return cls(df=pd.concat(dfs, axis=0, sort=True))\n",
      "/opt/miniconda3/envs/3dprint/lib/python3.13/site-packages/ax/modelbridge/cross_validation.py:439: UserWarning: Encountered exception in computing model fit quality: RandomModelBridge does not support prediction.\n",
      "  warn(\"Encountered exception in computing model fit quality: \" + str(e))\n",
      "[INFO 04-17 12:30:27] ax.service.ax_client: Generated new trial 4 with parameters {'WallThickness': 0.558645, 'PrintSpeed': 42.284435, 'LayerHeight': 0.317559, 'Infill%': 84.452845, 'NozzleTemp': 10.631509, 'BedTemp': 15.661589, 'FanSpeed': 0.844059, 'RetractionDistance': 1.789638, 'Material': 'PETG', 'InfillPattern': 'Cubic Subdivision'} using model Sobol.\n",
      "/opt/miniconda3/envs/3dprint/lib/python3.13/site-packages/ax/core/data.py:295: FutureWarning: The behavior of DataFrame concatenation with empty or all-NA entries is deprecated. In a future version, this will no longer exclude empty or all-NA columns when determining the result dtypes. To retain the old behavior, exclude the relevant entries before the concat operation.\n",
      "  return cls(df=pd.concat(dfs, axis=0, sort=True))\n",
      "/opt/miniconda3/envs/3dprint/lib/python3.13/site-packages/ax/modelbridge/cross_validation.py:439: UserWarning: Encountered exception in computing model fit quality: RandomModelBridge does not support prediction.\n",
      "  warn(\"Encountered exception in computing model fit quality: \" + str(e))\n",
      "[INFO 04-17 12:30:27] ax.service.ax_client: Generated new trial 5 with parameters {'WallThickness': 0.609387, 'PrintSpeed': 86.590544, 'LayerHeight': 0.348236, 'Infill%': 92.373309, 'NozzleTemp': 20.030038, 'BedTemp': 28.035688, 'FanSpeed': 98.997325, 'RetractionDistance': 3.79003, 'Material': 'TPU', 'InfillPattern': 'Cross'} using model Sobol.\n",
      "/opt/miniconda3/envs/3dprint/lib/python3.13/site-packages/ax/core/data.py:295: FutureWarning: The behavior of DataFrame concatenation with empty or all-NA entries is deprecated. In a future version, this will no longer exclude empty or all-NA columns when determining the result dtypes. To retain the old behavior, exclude the relevant entries before the concat operation.\n",
      "  return cls(df=pd.concat(dfs, axis=0, sort=True))\n",
      "/opt/miniconda3/envs/3dprint/lib/python3.13/site-packages/ax/modelbridge/cross_validation.py:439: UserWarning: Encountered exception in computing model fit quality: RandomModelBridge does not support prediction.\n",
      "  warn(\"Encountered exception in computing model fit quality: \" + str(e))\n",
      "[INFO 04-17 12:30:27] ax.service.ax_client: Generated new trial 6 with parameters {'WallThickness': 1.383472, 'PrintSpeed': 50.118375, 'LayerHeight': 0.185556, 'Infill%': 44.779508, 'NozzleTemp': 89.048851, 'BedTemp': 74.227575, 'FanSpeed': 18.309251, 'RetractionDistance': 1.17125, 'Material': 'ABS', 'InfillPattern': 'Grid'} using model Sobol.\n",
      "/opt/miniconda3/envs/3dprint/lib/python3.13/site-packages/ax/core/data.py:295: FutureWarning: The behavior of DataFrame concatenation with empty or all-NA entries is deprecated. In a future version, this will no longer exclude empty or all-NA columns when determining the result dtypes. To retain the old behavior, exclude the relevant entries before the concat operation.\n",
      "  return cls(df=pd.concat(dfs, axis=0, sort=True))\n",
      "/opt/miniconda3/envs/3dprint/lib/python3.13/site-packages/ax/modelbridge/cross_validation.py:439: UserWarning: Encountered exception in computing model fit quality: RandomModelBridge does not support prediction.\n",
      "  warn(\"Encountered exception in computing model fit quality: \" + str(e))\n",
      "[INFO 04-17 12:30:27] ax.service.ax_client: Generated new trial 7 with parameters {'WallThickness': 1.732537, 'PrintSpeed': 76.861625, 'LayerHeight': 0.257535, 'Infill%': 55.777078, 'NozzleTemp': 61.31683, 'BedTemp': 105.054644, 'FanSpeed': 64.45139, 'RetractionDistance': 2.776037, 'Material': 'PLA', 'InfillPattern': 'Cross 3D'} using model Sobol.\n",
      "/opt/miniconda3/envs/3dprint/lib/python3.13/site-packages/ax/core/data.py:295: FutureWarning: The behavior of DataFrame concatenation with empty or all-NA entries is deprecated. In a future version, this will no longer exclude empty or all-NA columns when determining the result dtypes. To retain the old behavior, exclude the relevant entries before the concat operation.\n",
      "  return cls(df=pd.concat(dfs, axis=0, sort=True))\n",
      "/opt/miniconda3/envs/3dprint/lib/python3.13/site-packages/ax/modelbridge/cross_validation.py:439: UserWarning: Encountered exception in computing model fit quality: RandomModelBridge does not support prediction.\n",
      "  warn(\"Encountered exception in computing model fit quality: \" + str(e))\n",
      "[INFO 04-17 12:30:27] ax.service.ax_client: Generated new trial 8 with parameters {'WallThickness': 1.062104, 'PrintSpeed': 20.159965, 'LayerHeight': 0.133674, 'Infill%': 13.72176, 'NozzleTemp': 29.380836, 'BedTemp': 11.168427, 'FanSpeed': 46.60507, 'RetractionDistance': 5.654655, 'Material': 'PETG', 'InfillPattern': 'Octet'} using model Sobol.\n",
      "/opt/miniconda3/envs/3dprint/lib/python3.13/site-packages/ax/core/data.py:295: FutureWarning: The behavior of DataFrame concatenation with empty or all-NA entries is deprecated. In a future version, this will no longer exclude empty or all-NA columns when determining the result dtypes. To retain the old behavior, exclude the relevant entries before the concat operation.\n",
      "  return cls(df=pd.concat(dfs, axis=0, sort=True))\n",
      "/opt/miniconda3/envs/3dprint/lib/python3.13/site-packages/ax/modelbridge/cross_validation.py:439: UserWarning: Encountered exception in computing model fit quality: RandomModelBridge does not support prediction.\n",
      "  warn(\"Encountered exception in computing model fit quality: \" + str(e))\n",
      "[INFO 04-17 12:30:27] ax.service.ax_client: Generated new trial 9 with parameters {'WallThickness': 1.197819, 'PrintSpeed': 91.885255, 'LayerHeight': 0.270515, 'Infill%': 52.055432, 'NozzleTemp': 66.217387, 'BedTemp': 24.589409, 'FanSpeed': 88.709104, 'RetractionDistance': 3.344831, 'Material': 'PETG', 'InfillPattern': 'Cross'} using model Sobol.\n",
      "/opt/miniconda3/envs/3dprint/lib/python3.13/site-packages/ax/core/data.py:295: FutureWarning: The behavior of DataFrame concatenation with empty or all-NA entries is deprecated. In a future version, this will no longer exclude empty or all-NA columns when determining the result dtypes. To retain the old behavior, exclude the relevant entries before the concat operation.\n",
      "  return cls(df=pd.concat(dfs, axis=0, sort=True))\n",
      "/opt/miniconda3/envs/3dprint/lib/python3.13/site-packages/ax/modelbridge/cross_validation.py:439: UserWarning: Encountered exception in computing model fit quality: RandomModelBridge does not support prediction.\n",
      "  warn(\"Encountered exception in computing model fit quality: \" + str(e))\n",
      "[INFO 04-17 12:30:27] ax.service.ax_client: Generated new trial 10 with parameters {'WallThickness': 1.621822, 'PrintSpeed': 46.091798, 'LayerHeight': 0.113273, 'Infill%': 99.73096, 'NozzleTemp': 48.275754, 'BedTemp': 91.405499, 'FanSpeed': 19.008829, 'RetractionDistance': 0.552823, 'Material': 'PLA', 'InfillPattern': 'Triangle'} using model Sobol.\n"
     ]
    },
    {
     "name": "stdout",
     "output_type": "stream",
     "text": [
      "   Batch Number  WallThickness  PrintSpeed  LayerHeight    Infill%  \\\n",
      "0             1       0.906584   65.891852     0.239203  27.971720   \n",
      "1             2       1.886495   32.398198     0.376688  76.002212   \n",
      "2             3       1.435776   95.695079     0.141549  42.131124   \n",
      "3             4       0.558645   42.284435     0.317559  84.452845   \n",
      "4             5       0.609387   86.590544     0.348236  92.373309   \n",
      "5             6       1.383472   50.118375     0.185556  44.779508   \n",
      "6             7       1.732537   76.861625     0.257535  55.777078   \n",
      "7             8       1.062104   20.159965     0.133674  13.721760   \n",
      "8             9       1.197819   91.885255     0.270515  52.055432   \n",
      "9            10       1.621822   46.091798     0.113273  99.730960   \n",
      "\n",
      "   NozzleTemp     BedTemp   FanSpeed  RetractionDistance Material  \\\n",
      "0   38.393648   53.577021  53.138471            2.106706      ABS   \n",
      "1   69.900661   62.385893  35.829296            4.900646      TPU   \n",
      "2   79.305749   86.774559  81.873966            4.498301      TPU   \n",
      "3   10.631509   15.661589   0.844059            1.789638     PETG   \n",
      "4   20.030038   28.035688  98.997325            3.790030      TPU   \n",
      "5   89.048851   74.227575  18.309251            1.171250      ABS   \n",
      "6   61.316830  105.054644  64.451390            2.776037      PLA   \n",
      "7   29.380836   11.168427  46.605070            5.654655     PETG   \n",
      "8   66.217387   24.589409  88.709104            3.344831     PETG   \n",
      "9   48.275754   91.405499  19.008829            0.552823      PLA   \n",
      "\n",
      "       InfillPattern  \n",
      "0      Quarter Cubic  \n",
      "1             Gyroid  \n",
      "2              Cross  \n",
      "3  Cubic Subdivision  \n",
      "4              Cross  \n",
      "5               Grid  \n",
      "6           Cross 3D  \n",
      "7              Octet  \n",
      "8              Cross  \n",
      "9           Triangle  \n"
     ]
    }
   ],
   "source": [
    "batch_size = 10\n",
    "# make a dataframe to store the parameters\n",
    "# and the objective values along with the batch number\n",
    "parameter_rows = []\n",
    "parameters = pd.DataFrame(columns=[\"Batch Number\", \"WallThickness\", \"PrintSpeed\", \"LayerHeight\", \"Infill%\", \"NozzleTemp\", \"BedTemp\", \"FanSpeed\", \"RetractionDistance\", \"Material\", \"InfillPattern\"])\n",
    "\n",
    "parameterizations, optimization_complete = ax_client.get_next_trials(batch_size)\n",
    "# Iterate over generated trials and extract parameters\n",
    "for trial_index, parameterization in parameterizations.items():\n",
    "    row = {\n",
    "        \"Batch Number\": trial_index,\n",
    "        \"WallThickness\": parameterization[\"WallThickness\"],\n",
    "        \"PrintSpeed\": parameterization[\"PrintSpeed\"],\n",
    "        \"LayerHeight\": parameterization[\"LayerHeight\"],\n",
    "        \"Infill%\": parameterization[\"Infill%\"],\n",
    "        \"NozzleTemp\": parameterization[\"NozzleTemp\"],\n",
    "        \"BedTemp\": parameterization[\"BedTemp\"],\n",
    "        \"FanSpeed\": parameterization[\"FanSpeed\"],\n",
    "        \"RetractionDistance\": parameterization[\"RetractionDistance\"],\n",
    "        \"Material\": parameterization[\"Material\"],\n",
    "        \"InfillPattern\": parameterization[\"InfillPattern\"],\n",
    "    }\n",
    "    parameter_rows.append(row)\n",
    "\n",
    "\n",
    "# Convert list of rows to a DataFrame\n",
    "parameters_df = pd.DataFrame(parameter_rows)\n",
    "\n",
    "# Save to CSV\n",
    "parameters_df.to_csv(\"trials_to_eval.csv\", index=False)\n",
    "\n",
    "# Preview the result\n",
    "print(parameters_df)\n"
   ]
  },
  {
   "cell_type": "markdown",
   "id": "ea8113c5",
   "metadata": {},
   "source": [
    "## Enter in the Ultimate Tensile Strength, Yield Strength, and Elastic Modulus for each trial in the batch"
   ]
  },
  {
   "cell_type": "code",
   "execution_count": null,
   "id": "b8689462",
   "metadata": {},
   "outputs": [
    {
     "name": "stderr",
     "output_type": "stream",
     "text": [
      "[INFO 04-17 12:30:30] ax.service.ax_client: Completed trial 1 with data: {'UltimateTensileStrength': (4.5, None), 'YieldStrength': (4.5, None), 'ElasticModulus': (4.5, None)}.\n",
      "[INFO 04-17 12:30:33] ax.service.ax_client: Completed trial 2 with data: {'UltimateTensileStrength': (6.7, None), 'YieldStrength': (6.7, None), 'ElasticModulus': (6.7, None)}.\n",
      "[INFO 04-17 12:30:37] ax.service.ax_client: Completed trial 3 with data: {'UltimateTensileStrength': (9.9, None), 'YieldStrength': (9.9, None), 'ElasticModulus': (9.9, None)}.\n",
      "[INFO 04-17 12:30:39] ax.service.ax_client: Completed trial 4 with data: {'UltimateTensileStrength': (8.8, None), 'YieldStrength': (8.8, None), 'ElasticModulus': (8.8, None)}.\n",
      "[INFO 04-17 12:30:42] ax.service.ax_client: Completed trial 5 with data: {'UltimateTensileStrength': (6.6, None), 'YieldStrength': (6.6, None), 'ElasticModulus': (6.6, None)}.\n",
      "[INFO 04-17 12:30:44] ax.service.ax_client: Completed trial 6 with data: {'UltimateTensileStrength': (7.7, None), 'YieldStrength': (7.7, None), 'ElasticModulus': (7.7, None)}.\n",
      "[INFO 04-17 12:30:46] ax.service.ax_client: Completed trial 7 with data: {'UltimateTensileStrength': (5.5, None), 'YieldStrength': (5.5, None), 'ElasticModulus': (5.5, None)}.\n",
      "[INFO 04-17 12:30:49] ax.service.ax_client: Completed trial 8 with data: {'UltimateTensileStrength': (4.4, None), 'YieldStrength': (4.4, None), 'ElasticModulus': (4.4, None)}.\n",
      "[INFO 04-17 12:30:52] ax.service.ax_client: Completed trial 9 with data: {'UltimateTensileStrength': (3.3, None), 'YieldStrength': (3.3, None), 'ElasticModulus': (3.3, None)}.\n",
      "[INFO 04-17 12:30:54] ax.service.ax_client: Completed trial 10 with data: {'UltimateTensileStrength': (2.2, None), 'YieldStrength': (2.2, None), 'ElasticModulus': (2.2, None)}.\n"
     ]
    }
   ],
   "source": [
    "# Collect new rows\n",
    "new_rows = []\n",
    "\n",
    "for trial_index, parameterization in parameterizations.items():\n",
    "    # Get results from user\n",
    "    UTS = float(input(\"Enter the Ultimate Tensile Strength: \"))\n",
    "    YS = float(input(\"Enter the Yield Strength: \"))\n",
    "    EM = float(input(\"Enter the Elastic Modulus: \"))\n",
    "    \n",
    "    # Complete trial in Ax\n",
    "    ax_client.complete_trial(\n",
    "        trial_index=trial_index,\n",
    "        raw_data={\n",
    "            obj1_name: UTS,\n",
    "            obj2_name: YS,\n",
    "            obj3_name: EM\n",
    "        }\n",
    "    )\n",
    "\n",
    "    # Build the new row\n",
    "    row = {\n",
    "        \"WallThickness\": parameterization[\"WallThickness\"],\n",
    "        \"PrintSpeed\": parameterization[\"PrintSpeed\"],\n",
    "        \"LayerHeight\": parameterization[\"LayerHeight\"],\n",
    "        \"Infill%\": parameterization[\"Infill%\"],\n",
    "        \"NozzleTemp\": parameterization[\"NozzleTemp\"],\n",
    "        \"BedTemp\": parameterization[\"BedTemp\"],\n",
    "        \"FanSpeed\": parameterization[\"FanSpeed\"],\n",
    "        \"RetractionDistance\": parameterization[\"RetractionDistance\"],\n",
    "        \"Material\": parameterization[\"Material\"],\n",
    "        \"InfillPattern\": parameterization[\"InfillPattern\"],\n",
    "        obj1_name: UTS,\n",
    "        obj2_name: YS,\n",
    "        obj3_name: EM\n",
    "    }\n",
    "    new_rows.append(row)\n",
    "\n",
    "# Convert new rows to DataFrame\n",
    "new_data = pd.DataFrame(new_rows)\n",
    "\n",
    "# Append to existing training data\n",
    "data = pd.concat([data, new_data], ignore_index=True)\n",
    "\n",
    "# Save updated data if needed\n",
    "data.to_csv(\"training_data.csv\", index=False)"
   ]
  },
  {
   "cell_type": "markdown",
   "id": "71462e4f",
   "metadata": {},
   "source": [
    "## Plots"
   ]
  },
  {
   "cell_type": "code",
   "execution_count": 79,
   "id": "3683f54b",
   "metadata": {},
   "outputs": [
    {
     "name": "stderr",
     "output_type": "stream",
     "text": [
      "[INFO 04-17 12:33:26] ax.service.utils.best_point: Using inferred objective thresholds: [ObjectiveThreshold(ElasticModulus <= 2.7431149174561664), ObjectiveThreshold(UltimateTensileStrength <= 2.7431149174561664), ObjectiveThreshold(YieldStrength <= 2.7431149174561664)], as objective thresholds were not specified as part of the optimization configuration on the experiment.\n"
     ]
    },
    {
     "data": {
      "image/png": "[encoded data removed]",
      "text/plain": [
       "<Figure size 900x600 with 1 Axes>"
      ]
     },
     "metadata": {},
     "output_type": "display_data"
    }
   ],
   "source": [
    "# Plot results\n",
    "objectives = ax_client.objective_names\n",
    "df = ax_client.get_trials_data_frame()\n",
    "\n",
    "fig, ax = plt.subplots(figsize=(6, 4), dpi=150)\n",
    "pareto = ax_client.get_pareto_optimal_parameters(use_model_predictions=False)\n",
    "pareto_data = [p[1][0] for p in pareto.values()]\n",
    "pareto = pd.DataFrame(pareto_data).sort_values(objectives[0])\n",
    "\n",
    "ax.scatter(df[objectives[0]], df[objectives[1]], fc=\"None\", ec=\"k\", label=\"Observed\")\n",
    "ax.plot(\n",
    "    pareto[objectives[0]],\n",
    "    pareto[objectives[1]],\n",
    "    color=\"#0033FF\",\n",
    "    lw=2,\n",
    "    label=\"Pareto Front\",\n",
    ")\n",
    "ax.set_xlabel(objectives[0])\n",
    "ax.set_ylabel(objectives[1])\n",
    "\n",
    "ax.legend()\n",
    "plt.show()"
   ]
  }
 ],
 "metadata": {
  "kernelspec": {
   "display_name": "3dprint",
   "language": "python",
   "name": "python3"
  },
  "language_info": {
   "codemirror_mode": {
    "name": "ipython",
    "version": 3
   },
   "file_extension": ".py",
   "mimetype": "text/x-python",
   "name": "python",
   "nbconvert_exporter": "python",
   "pygments_lexer": "ipython3",
   "version": "3.13.2"
  }
 },
 "nbformat": 4,
 "nbformat_minor": 5
}
